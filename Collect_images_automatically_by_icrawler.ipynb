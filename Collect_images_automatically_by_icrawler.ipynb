{
 "cells": [
  {
   "cell_type": "markdown",
   "metadata": {},
   "source": [
    "# Collect images from the net automatically <br>\n",
    "Reference: <br>\n",
    "https://aiacademy.jp/media/?p=352"
   ]
  },
  {
   "cell_type": "code",
   "execution_count": 3,
   "metadata": {},
   "outputs": [
    {
     "name": "stderr",
     "output_type": "stream",
     "text": [
      "2020-11-28 16:36:40,036 - INFO - icrawler.crawler - start crawling...\n",
      "2020-11-28 16:36:40,036 - INFO - icrawler.crawler - starting 1 feeder threads...\n",
      "2020-11-28 16:36:40,036 - INFO - feeder - thread feeder-001 exit\n",
      "2020-11-28 16:36:40,044 - INFO - icrawler.crawler - starting 1 parser threads...\n",
      "2020-11-28 16:36:40,047 - INFO - icrawler.crawler - starting 1 downloader threads...\n",
      "2020-11-28 16:36:40,463 - INFO - parser - parsing result page https://www.bing.com/images/async?q=夾竹桃&first=0\n",
      "2020-11-28 16:36:41,025 - INFO - downloader - image #1\thttps://photohito.k-img.com/uploads/photo117/user116670/7/0/70b9eb6b4b5bd2bd5943f6f89af8ff23/70b9eb6b4b5bd2bd5943f6f89af8ff23_l.jpg\n",
      "2020-11-28 16:36:41,290 - INFO - downloader - image #2\thttps://kyoumoyokihiwo.norism100.com/wp-content/uploads/2019/06/P6180046-2-1500x1200.jpg\n",
      "2020-11-28 16:36:41,403 - INFO - downloader - image #3\thttps://photohito.k-img.com/uploads/photo60/user59857/3/1/31d76858e8652aab1b0b009f93eada5f/31d76858e8652aab1b0b009f93eada5f_l.jpg\n",
      "2020-11-28 16:36:41,593 - INFO - downloader - image #4\thttps://photohito.k-img.com/uploads/photo60/user59857/2/4/24f27a3718a571b6b12c00070c182917/24f27a3718a571b6b12c00070c182917_l.jpg\n",
      "2020-11-28 16:36:41,919 - INFO - downloader - image #5\thttps://kyoumoyokihiwo.norism100.com/wp-content/uploads/2019/06/P6180018.jpg\n",
      "2020-11-28 16:36:42,281 - INFO - downloader - image #6\thttp://hottime.sakura.ne.jp/konsyu7/kyoutikutou-pinku.jpg\n",
      "2020-11-28 16:36:42,595 - INFO - downloader - image #7\thttps://kyoumoyokihiwo.norism100.com/wp-content/uploads/2018/07/LRM_EXPORT_20180723_054612.jpg\n",
      "2020-11-28 16:36:43,064 - INFO - downloader - image #8\thttps://kyoumoyokihiwo.norism100.com/wp-content/uploads/2019/06/P6020033.jpg\n",
      "2020-11-28 16:36:43,337 - INFO - downloader - image #9\thttps://kyoumoyokihiwo.norism100.com/wp-content/uploads/2019/06/P6180046-2.jpg\n",
      "2020-11-28 16:36:43,397 - INFO - downloader - image #10\thttps://photohito.k-img.com/uploads/photo60/user59857/b/0/b095b496611a26d93d01b173379bf0a7/b095b496611a26d93d01b173379bf0a7_l.jpg\n",
      "2020-11-28 16:36:43,652 - INFO - downloader - downloaded images reach max num, thread downloader-001 is ready to exit\n",
      "2020-11-28 16:36:43,652 - INFO - downloader - thread downloader-001 exit\n",
      "2020-11-28 16:36:44,065 - INFO - icrawler.crawler - Crawling task done!\n",
      "2020-11-28 16:36:44,407 - INFO - parser - downloaded image reached max num, thread parser-001 is ready to exit\n",
      "2020-11-28 16:36:44,407 - INFO - parser - thread parser-001 exit\n"
     ]
    }
   ],
   "source": [
    "# 夾竹桃の画像を10枚集める\n",
    "\n",
    "from icrawler.builtin import BingImageCrawler\n",
    "crawler = BingImageCrawler(storage={\"root_dir\": \"夾竹桃\"})\n",
    "crawler.crawl(keyword=\"夾竹桃\", max_num=10)"
   ]
  },
  {
   "cell_type": "code",
   "execution_count": 4,
   "metadata": {},
   "outputs": [
    {
     "name": "stderr",
     "output_type": "stream",
     "text": [
      "2020-11-28 16:36:46,139 - INFO - icrawler.crawler - start crawling...\n",
      "2020-11-28 16:36:46,140 - INFO - icrawler.crawler - starting 1 feeder threads...\n",
      "2020-11-28 16:36:46,141 - INFO - feeder - thread feeder-001 exit\n",
      "2020-11-28 16:36:46,145 - INFO - icrawler.crawler - starting 1 parser threads...\n",
      "2020-11-28 16:36:46,147 - INFO - icrawler.crawler - starting 1 downloader threads...\n",
      "2020-11-28 16:36:46,572 - INFO - parser - parsing result page https://www.bing.com/images/async?q=BROMPTON&first=0\n",
      "2020-11-28 16:36:47,177 - INFO - downloader - image #1\thttp://www.01bike.com/minibero/img/07_brompton_s3l_blue4.jpg\n",
      "2020-11-28 16:36:48,697 - INFO - downloader - image #2\thttp://www.loro.co.jp/blog/lcw/pic_blog2019/Brompton%20CHPT3%20171018-002.jpg\n",
      "2020-11-28 16:36:49,051 - INFO - downloader - image #3\thttps://cleantechnica.com/files/2017/08/Brompton-2.jpg\n",
      "2020-11-28 16:36:51,541 - INFO - downloader - image #4\thttps://www.leisurelakesbikes.com/images/brompton-b75-water-blue-white-folding-bike-2019.jpg\n",
      "2020-11-28 16:36:51,738 - INFO - downloader - image #5\thttps://livedoor.blogimg.jp/wadacycle-news/imgs/d/a/daa0a41f.jpg\n",
      "2020-11-28 16:36:52,072 - INFO - downloader - image #6\thttp://bromptonjunction.jp/blog/wp-content/uploads/2017/03/1000x1000px-2.jpg\n",
      "2020-11-28 16:36:52,187 - INFO - downloader - image #7\thttp://www.cso.jp/brompton/bike/bromptonm6l.jpg\n",
      "2020-11-28 16:36:52,303 - INFO - downloader - image #8\thttps://livedoor.blogimg.jp/wadacycle-news/imgs/6/9/693940c0.jpg\n",
      "2020-11-28 16:36:52,614 - INFO - downloader - image #9\thttps://www.kaitori-eirin.com/wordpress/wp-content/uploads/2019/07/brompton_m3l_grbk-6.jpg\n",
      "2020-11-28 16:36:52,875 - INFO - downloader - image #10\thttps://farm66.staticflickr.com/65535/48656714163_f1c9197bc6_b.jpg\n",
      "2020-11-28 16:36:52,973 - INFO - downloader - image #11\thttps://livedoor.blogimg.jp/wadacycle/imgs/3/0/309513bd.jpg\n",
      "2020-11-28 16:36:53,493 - INFO - downloader - image #12\thttp://www.mizutanibike.co.jp/brand/brompton/img/home/mainvisual_02.jpg\n",
      "2020-11-28 16:36:53,791 - INFO - downloader - image #13\thttp://www.loro.co.jp/blog/east/Explore Edition 概要-1_page-0003.jpg\n",
      "2020-11-28 16:36:53,903 - INFO - downloader - image #14\thttp://livedoor.blogimg.jp/wadacycle-news/imgs/c/3/c3c3f426.jpg\n",
      "2020-11-28 16:36:54,067 - INFO - downloader - image #15\thttp://bikeloop.com/wp/wp-content/uploads/2016/09/BROMPTON-BLACK_ED.jpg\n",
      "2020-11-28 16:36:54,218 - INFO - downloader - image #16\thttp://www.rideworks.jp/event/706/170206brompton001.jpg\n",
      "2020-11-28 16:36:54,338 - INFO - downloader - image #17\thttp://bikeloop.com/wp/wp-content/uploads/2016/11/BROMPTON-MAIN-2.jpg\n",
      "2020-11-28 16:36:54,934 - INFO - downloader - image #18\thttp://www.gcs-yokohama.com/cms/wp-content/uploads/gcs-yokohama.com/Papyrus-White_2.jpg\n",
      "2020-11-28 16:36:55,498 - INFO - parser - no more page urls for thread parser-001 to parse\n",
      "2020-11-28 16:36:55,498 - INFO - parser - thread parser-001 exit\n",
      "2020-11-28 16:36:59,939 - INFO - downloader - no more download task for thread downloader-001\n",
      "2020-11-28 16:36:59,939 - INFO - downloader - thread downloader-001 exit\n",
      "2020-11-28 16:37:00,269 - INFO - icrawler.crawler - Crawling task done!\n"
     ]
    }
   ],
   "source": [
    "# BROMPTON の画像20枚\n",
    "\n",
    "from icrawler.builtin import BingImageCrawler\n",
    "crawler = BingImageCrawler(storage={\"root_dir\": \"自転車\"})\n",
    "crawler.crawl(keyword=\"BROMPTON\", max_num=20)"
   ]
  },
  {
   "cell_type": "code",
   "execution_count": null,
   "metadata": {},
   "outputs": [],
   "source": []
  }
 ],
 "metadata": {
  "kernelspec": {
   "display_name": "Python 3",
   "language": "python",
   "name": "python3"
  },
  "language_info": {
   "codemirror_mode": {
    "name": "ipython",
    "version": 3
   },
   "file_extension": ".py",
   "mimetype": "text/x-python",
   "name": "python",
   "nbconvert_exporter": "python",
   "pygments_lexer": "ipython3",
   "version": "3.7.4"
  }
 },
 "nbformat": 4,
 "nbformat_minor": 2
}
