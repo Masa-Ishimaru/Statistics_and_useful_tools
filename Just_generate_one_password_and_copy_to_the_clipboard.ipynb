{
 "cells": [
  {
   "cell_type": "code",
   "execution_count": 1,
   "metadata": {},
   "outputs": [
    {
     "name": "stdout",
     "output_type": "stream",
     "text": [
      "suggested password\n",
      "&d6U30DgywoshsN\n"
     ]
    }
   ],
   "source": [
    "import random\n",
    "import pyperclip\n",
    "\n",
    "chars = 'abcdefghijklmnopqrstuvwxyzABCDEFGHIJKLMNOPQRSTUVWXYZ-_#&^0123456789'\n",
    "\n",
    "number = 1    # number of password\n",
    "length = 15   # password length\n",
    "\n",
    "print('suggested password')\n",
    "\n",
    "for pwd in range(number):\n",
    "    password = ''\n",
    "    for c in range(length):\n",
    "        password += random.choice(chars)\n",
    "        \n",
    "print(password)\n",
    "pyperclip.copy(password)      # copy to the clipboard"
   ]
  },
  {
   "cell_type": "code",
   "execution_count": null,
   "metadata": {},
   "outputs": [],
   "source": []
  }
 ],
 "metadata": {
  "kernelspec": {
   "display_name": "Python 3",
   "language": "python",
   "name": "python3"
  },
  "language_info": {
   "codemirror_mode": {
    "name": "ipython",
    "version": 3
   },
   "file_extension": ".py",
   "mimetype": "text/x-python",
   "name": "python",
   "nbconvert_exporter": "python",
   "pygments_lexer": "ipython3",
   "version": "3.7.4"
  }
 },
 "nbformat": 4,
 "nbformat_minor": 2
}
