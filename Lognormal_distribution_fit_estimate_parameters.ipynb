{
 "cells": [
  {
   "cell_type": "markdown",
   "metadata": {},
   "source": [
    "## Fitting Lognormal distribution"
   ]
  },
  {
   "cell_type": "code",
   "execution_count": 1,
   "metadata": {},
   "outputs": [],
   "source": [
    "import pandas as pd\n",
    "import numpy as np\n",
    "import matplotlib.pyplot as plt\n",
    "import seaborn as sns\n",
    "\n",
    "from scipy.stats import lognorm\n",
    "from scipy import optimize\n",
    "\n",
    "%matplotlib inline"
   ]
  },
  {
   "cell_type": "code",
   "execution_count": 2,
   "metadata": {},
   "outputs": [
    {
     "name": "stdout",
     "output_type": "stream",
     "text": [
      "   percentile  lognorm_sample\n",
      "0        0.01            20.0\n",
      "1        0.25            35.0\n",
      "2        0.50            60.0\n",
      "3        0.75            75.0\n",
      "4        0.99           100.0\n"
     ]
    }
   ],
   "source": [
    "# Crack depth data\n",
    "df = pd.DataFrame({'percentile': [0.01, 0.25, 0.5, 0.75, 0.99],\n",
    "                   'lognorm_sample': [20.0, 35.0, 60.0, 75.0, 100.0]},\n",
    "                  index = None)\n",
    "print(df)"
   ]
  },
  {
   "cell_type": "code",
   "execution_count": 3,
   "metadata": {},
   "outputs": [],
   "source": [
    "x = df['percentile']\n",
    "y = df['lognorm_sample']"
   ]
  },
  {
   "cell_type": "markdown",
   "metadata": {},
   "source": [
    "### Fitting parameters by least square method"
   ]
  },
  {
   "cell_type": "code",
   "execution_count": 4,
   "metadata": {},
   "outputs": [],
   "source": [
    "# Return ppf value from percentile\n",
    "def lognorm_ppf(parameter, x) :\n",
    "    shape = parameter[0]\n",
    "    scale = parameter[1]\n",
    "    loc   = parameter[2]\n",
    "    \n",
    "    lognorm_ppf = lognorm.ppf(x, shape, loc, scale)\n",
    "    \n",
    "    return lognorm_ppf"
   ]
  },
  {
   "cell_type": "code",
   "execution_count": 5,
   "metadata": {},
   "outputs": [],
   "source": [
    "# Residual\n",
    "def fit_curve(parameter, x, y):\n",
    "    residual = y - lognorm_ppf(parameter, x)\n",
    "    return residual"
   ]
  },
  {
   "cell_type": "code",
   "execution_count": 6,
   "metadata": {},
   "outputs": [
    {
     "name": "stdout",
     "output_type": "stream",
     "text": [
      "(array([ 5.91394448e-02,  3.06222004e+02, -2.49480526e+02]), 1)\n",
      "result =  (array([ 5.91394448e-02,  3.06222004e+02, -2.49480526e+02]), 1)\n",
      "shape =  0.05914\n",
      "loc   =  -249.5\n",
      "scale =  306.2\n"
     ]
    }
   ],
   "source": [
    "# Fitting with original values\n",
    "parameter_init = [1.0, 1.0, 1.0]\n",
    "result = optimize.leastsq(fit_curve, parameter_init, args = (x, y))\n",
    "\n",
    "print(result)\n",
    "print('result = ', result)\n",
    "shape = result[0][0]\n",
    "scale = result[0][1]\n",
    "loc   = result[0][2]\n",
    "                  \n",
    "print('shape =  {:.4}'.format(shape))\n",
    "print('loc   =  {:.4}'.format(loc))\n",
    "print('scale =  {:.4}'.format(scale))"
   ]
  },
  {
   "cell_type": "code",
   "execution_count": 7,
   "metadata": {},
   "outputs": [
    {
     "name": "stdout",
     "output_type": "stream",
     "text": [
      " active_mask: array([0., 0., 0.])\n",
      "        cost: 75.05404131627691\n",
      "         fun: array([ 2.61853734, -9.76697998,  3.2585681 ,  5.79679521, -1.90692062])\n",
      "        grad: array([-2.26503282e-03, -1.98069747e-07, -5.51205233e-08])\n",
      "         jac: array([[ 620.78764343,   -0.87146117,   -1.        ],\n",
      "       [ 198.45933914,   -0.96089473,   -1.        ],\n",
      "       [   0.        ,   -1.        ,   -1.        ],\n",
      "       [-214.94132233,   -1.04069672,   -1.        ],\n",
      "       [-817.42329025,   -1.14749807,   -1.        ]])\n",
      "     message: '`ftol` termination condition is satisfied.'\n",
      "        nfev: 34\n",
      "        njev: 28\n",
      "  optimality: 0.002265032818513646\n",
      "      status: 2\n",
      "     success: True\n",
      "           x: array([ 5.91416194e-02,  3.06210711e+02, -2.49469279e+02])\n",
      "shape =  0.05914\n",
      "loc   =  -249.5\n",
      "scale =  306.2\n"
     ]
    }
   ],
   "source": [
    "# Fitting with original values\n",
    "parameter_init = [1.0, 1.0, 1.0]\n",
    "result = optimize.least_squares(fit_curve, parameter_init, args = (x, y))\n",
    "\n",
    "print(result)\n",
    "shape = result.x[0]\n",
    "scale = result.x[1]\n",
    "loc   = result.x[2]\n",
    "                  \n",
    "print('shape =  {:.4}'.format(shape))\n",
    "print('loc   =  {:.4}'.format(loc))\n",
    "print('scale =  {:.4}'.format(scale))"
   ]
  },
  {
   "cell_type": "code",
   "execution_count": 8,
   "metadata": {},
   "outputs": [
    {
     "name": "stdout",
     "output_type": "stream",
     "text": [
      " active_mask: array([0., 0., 0.])\n",
      "        cost: 75.05404131627691\n",
      "         fun: array([ 2.61853734, -9.76697998,  3.2585681 ,  5.79679521, -1.90692062])\n",
      "        grad: array([-2.26503282e-03, -1.98069747e-07, -5.51205233e-08])\n",
      "         jac: array([[ 620.78764343,   -0.87146117,   -1.        ],\n",
      "       [ 198.45933914,   -0.96089473,   -1.        ],\n",
      "       [   0.        ,   -1.        ,   -1.        ],\n",
      "       [-214.94132233,   -1.04069672,   -1.        ],\n",
      "       [-817.42329025,   -1.14749807,   -1.        ]])\n",
      "     message: '`ftol` termination condition is satisfied.'\n",
      "        nfev: 34\n",
      "        njev: 28\n",
      "  optimality: 0.002265032818513646\n",
      "      status: 2\n",
      "     success: True\n",
      "           x: array([ 5.91416194e-02,  3.06210711e+02, -2.49469279e+02])\n",
      "shape =  0.05914\n",
      "loc   =  -249.5\n",
      "scale =  306.2\n"
     ]
    }
   ],
   "source": [
    "# Fitting with original values\n",
    "parameter_init = [1.0, 1.0, 1.0]\n",
    "result = optimize.least_squares(fit_curve, parameter_init, args = (x, y))\n",
    "\n",
    "print(result)\n",
    "shape = result.x[0]\n",
    "scale = result.x[1]\n",
    "loc   = result.x[2]\n",
    "                  \n",
    "print('shape =  {:.4}'.format(shape))\n",
    "print('loc   =  {:.4}'.format(loc))\n",
    "print('scale =  {:.4}'.format(scale))"
   ]
  },
  {
   "cell_type": "markdown",
   "metadata": {},
   "source": [
    "### Draw distrubution"
   ]
  },
  {
   "cell_type": "code",
   "execution_count": 9,
   "metadata": {},
   "outputs": [
    {
     "data": {
      "image/png": "[encoded data removed]",
      "text/plain": [
       "<Figure size 432x288 with 1 Axes>"
      ]
     },
     "metadata": {
      "needs_background": "light"
     },
     "output_type": "display_data"
    }
   ],
   "source": [
    "xx = np.arange(0, 300, 1)\n",
    "\n",
    "plt.plot(xx, lognorm.pdf(xx, shape, loc, scale))\n",
    "plt.show()"
   ]
  },
  {
   "cell_type": "code",
   "execution_count": 10,
   "metadata": {},
   "outputs": [
    {
     "name": "stdout",
     "output_type": "stream",
     "text": [
      "17.381462657260982\n",
      "44.76697997517542\n",
      "56.74143189971298\n",
      "69.20320479327913\n",
      "101.90692061945097\n"
     ]
    }
   ],
   "source": [
    "# Check\n",
    "parameter_v = [shape, scale, loc]\n",
    "print(lognorm_ppf(parameter_v, 0.01))\n",
    "print(lognorm_ppf(parameter_v, 0.25))\n",
    "print(lognorm_ppf(parameter_v, 0.5))\n",
    "print(lognorm_ppf(parameter_v, 0.75))\n",
    "print(lognorm_ppf(parameter_v, 0.99))"
   ]
  },
  {
   "cell_type": "markdown",
   "metadata": {},
   "source": [
    "### Compare crack depth distribution"
   ]
  },
  {
   "cell_type": "code",
   "execution_count": 11,
   "metadata": {
    "scrolled": true
   },
   "outputs": [
    {
     "name": "stdout",
     "output_type": "stream",
     "text": [
      "(5, 4)\n"
     ]
    },
    {
     "data": {
      "text/html": [
       "<div>\n",
       "<style scoped>\n",
       "    .dataframe tbody tr th:only-of-type {\n",
       "        vertical-align: middle;\n",
       "    }\n",
       "\n",
       "    .dataframe tbody tr th {\n",
       "        vertical-align: top;\n",
       "    }\n",
       "\n",
       "    .dataframe thead th {\n",
       "        text-align: right;\n",
       "    }\n",
       "</style>\n",
       "<table border=\"1\" class=\"dataframe\">\n",
       "  <thead>\n",
       "    <tr style=\"text-align: right;\">\n",
       "      <th></th>\n",
       "      <th>percentile</th>\n",
       "      <th>sample_a</th>\n",
       "      <th>sample_b</th>\n",
       "      <th>sample_c</th>\n",
       "    </tr>\n",
       "  </thead>\n",
       "  <tbody>\n",
       "    <tr>\n",
       "      <td>0</td>\n",
       "      <td>0.01</td>\n",
       "      <td>10</td>\n",
       "      <td>5</td>\n",
       "      <td>5</td>\n",
       "    </tr>\n",
       "    <tr>\n",
       "      <td>1</td>\n",
       "      <td>0.25</td>\n",
       "      <td>20</td>\n",
       "      <td>10</td>\n",
       "      <td>20</td>\n",
       "    </tr>\n",
       "    <tr>\n",
       "      <td>2</td>\n",
       "      <td>0.50</td>\n",
       "      <td>30</td>\n",
       "      <td>20</td>\n",
       "      <td>30</td>\n",
       "    </tr>\n",
       "    <tr>\n",
       "      <td>3</td>\n",
       "      <td>0.75</td>\n",
       "      <td>40</td>\n",
       "      <td>40</td>\n",
       "      <td>50</td>\n",
       "    </tr>\n",
       "    <tr>\n",
       "      <td>4</td>\n",
       "      <td>0.99</td>\n",
       "      <td>50</td>\n",
       "      <td>60</td>\n",
       "      <td>100</td>\n",
       "    </tr>\n",
       "  </tbody>\n",
       "</table>\n",
       "</div>"
      ],
      "text/plain": [
       "   percentile  sample_a  sample_b  sample_c\n",
       "0        0.01        10         5         5\n",
       "1        0.25        20        10        20\n",
       "2        0.50        30        20        30\n",
       "3        0.75        40        40        50\n",
       "4        0.99        50        60       100"
      ]
     },
     "execution_count": 11,
     "metadata": {},
     "output_type": "execute_result"
    }
   ],
   "source": [
    "df = pd.read_csv('lognorm_sample_data.csv')\n",
    "print(df.shape)\n",
    "df.head()"
   ]
  },
  {
   "cell_type": "code",
   "execution_count": 12,
   "metadata": {},
   "outputs": [],
   "source": [
    "x = df['percentile']\n",
    "y_a = df['sample_a']\n",
    "y_b = df['sample_b']\n",
    "y_c = df['sample_c']"
   ]
  },
  {
   "cell_type": "code",
   "execution_count": 13,
   "metadata": {},
   "outputs": [
    {
     "data": {
      "image/png": "[encoded data removed]",
      "text/plain": [
       "<Figure size 432x288 with 1 Axes>"
      ]
     },
     "metadata": {
      "needs_background": "light"
     },
     "output_type": "display_data"
    }
   ],
   "source": [
    "# Draw graph\n",
    "plt.plot(x, y_a, 'b:',  alpha=0.5, label = 'sample_a')\n",
    "plt.plot(x, y_b, 'b--', alpha=0.5, label = 'sample_b')\n",
    "plt.plot(x, y_c, 'b-',  alpha=0.5, label = 'sample_c')\n",
    "plt.legend(loc = 'best')\n",
    "plt.xlabel('percentile')\n",
    "plt.ylabel('sample_data')\n",
    "plt.show()"
   ]
  },
  {
   "cell_type": "code",
   "execution_count": 14,
   "metadata": {},
   "outputs": [],
   "source": [
    "def make_params(x, y):\n",
    "    parameter_init = [1.0, 1.0, 1.0]\n",
    "    result = optimize.leastsq(fit_curve, parameter_init, args = (x, y))\n",
    "\n",
    "    shape = result[0][0]\n",
    "    scale = result[0][1]\n",
    "    loc   = result[0][2]\n",
    "    \n",
    "    return shape, scale, loc"
   ]
  },
  {
   "cell_type": "code",
   "execution_count": 15,
   "metadata": {},
   "outputs": [
    {
     "name": "stderr",
     "output_type": "stream",
     "text": [
      "C:\\Users\\mmm\\Anaconda3\\lib\\site-packages\\scipy\\optimize\\minpack.py:475: RuntimeWarning: Number of calls to function has reached maxfev = 800.\n",
      "  warnings.warn(errors[info][0], RuntimeWarning)\n"
     ]
    }
   ],
   "source": [
    "shape_a, scale_a, loc_a = make_params(x, y_a)\n",
    "shape_b, scale_b, loc_b = make_params(x, y_b)\n",
    "shape_c, scale_c, loc_c = make_params(x, y_c)"
   ]
  },
  {
   "cell_type": "code",
   "execution_count": 16,
   "metadata": {},
   "outputs": [
    {
     "data": {
      "image/png": "[encoded data removed]",
      "text/plain": [
       "<Figure size 720x288 with 1 Axes>"
      ]
     },
     "metadata": {
      "needs_background": "light"
     },
     "output_type": "display_data"
    }
   ],
   "source": [
    "xx = np.arange(0, 150, 1)\n",
    "\n",
    "plt.figure(figsize=(10.0, 4.0))\n",
    "\n",
    "plt.plot(xx, lognorm.pdf(xx, shape_a,  loc_a,  scale_a),  'r:',  label = 'sample_a')\n",
    "plt.plot(xx, lognorm.pdf(xx, shape_b,  loc_b,  scale_b),  'r--',  label = 'sample_b')\n",
    "plt.plot(xx, lognorm.pdf(xx, shape_c,  loc_c,  scale_c),  'r-',  label = 'sample_c')\n",
    "plt.xlabel('sample_data')\n",
    "plt.ylabel('Frequency')\n",
    "plt.legend(loc = 'best')\n",
    "plt.show()"
   ]
  },
  {
   "cell_type": "code",
   "execution_count": null,
   "metadata": {},
   "outputs": [],
   "source": []
  }
 ],
 "metadata": {
  "kernelspec": {
   "display_name": "Python 3",
   "language": "python",
   "name": "python3"
  },
  "language_info": {
   "codemirror_mode": {
    "name": "ipython",
    "version": 3
   },
   "file_extension": ".py",
   "mimetype": "text/x-python",
   "name": "python",
   "nbconvert_exporter": "python",
   "pygments_lexer": "ipython3",
   "version": "3.7.4"
  }
 },
 "nbformat": 4,
 "nbformat_minor": 2
}
