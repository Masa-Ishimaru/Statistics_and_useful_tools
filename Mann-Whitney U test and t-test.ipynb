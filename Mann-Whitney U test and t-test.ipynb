{
 "cells": [
  {
   "cell_type": "markdown",
   "metadata": {},
   "source": [
    "# Mann-Whitney U test and t-test"
   ]
  },
  {
   "cell_type": "code",
   "execution_count": 10,
   "metadata": {},
   "outputs": [],
   "source": [
    "# import libraries\n",
    "\n",
    "import pandas as pd\n",
    "import numpy as np\n",
    "from sklearn.datasets import load_iris\n",
    "import itertools\n",
    "from scipy.stats import mannwhitneyu, ttest_ind, probplot\n",
    "\n",
    "import matplotlib.pyplot as plt\n",
    "\n",
    "%matplotlib inline"
   ]
  },
  {
   "cell_type": "code",
   "execution_count": 2,
   "metadata": {},
   "outputs": [
    {
     "name": "stdout",
     "output_type": "stream",
     "text": [
      "(150, 4)\n"
     ]
    },
    {
     "data": {
      "text/html": [
       "<div>\n",
       "<style scoped>\n",
       "    .dataframe tbody tr th:only-of-type {\n",
       "        vertical-align: middle;\n",
       "    }\n",
       "\n",
       "    .dataframe tbody tr th {\n",
       "        vertical-align: top;\n",
       "    }\n",
       "\n",
       "    .dataframe thead th {\n",
       "        text-align: right;\n",
       "    }\n",
       "</style>\n",
       "<table border=\"1\" class=\"dataframe\">\n",
       "  <thead>\n",
       "    <tr style=\"text-align: right;\">\n",
       "      <th></th>\n",
       "      <th>sepal length (cm)</th>\n",
       "      <th>sepal width (cm)</th>\n",
       "      <th>petal length (cm)</th>\n",
       "      <th>petal width (cm)</th>\n",
       "    </tr>\n",
       "  </thead>\n",
       "  <tbody>\n",
       "    <tr>\n",
       "      <th>0</th>\n",
       "      <td>5.1</td>\n",
       "      <td>3.5</td>\n",
       "      <td>1.4</td>\n",
       "      <td>0.2</td>\n",
       "    </tr>\n",
       "    <tr>\n",
       "      <th>1</th>\n",
       "      <td>4.9</td>\n",
       "      <td>3.0</td>\n",
       "      <td>1.4</td>\n",
       "      <td>0.2</td>\n",
       "    </tr>\n",
       "    <tr>\n",
       "      <th>2</th>\n",
       "      <td>4.7</td>\n",
       "      <td>3.2</td>\n",
       "      <td>1.3</td>\n",
       "      <td>0.2</td>\n",
       "    </tr>\n",
       "    <tr>\n",
       "      <th>3</th>\n",
       "      <td>4.6</td>\n",
       "      <td>3.1</td>\n",
       "      <td>1.5</td>\n",
       "      <td>0.2</td>\n",
       "    </tr>\n",
       "    <tr>\n",
       "      <th>4</th>\n",
       "      <td>5.0</td>\n",
       "      <td>3.6</td>\n",
       "      <td>1.4</td>\n",
       "      <td>0.2</td>\n",
       "    </tr>\n",
       "  </tbody>\n",
       "</table>\n",
       "</div>"
      ],
      "text/plain": [
       "   sepal length (cm)  sepal width (cm)  petal length (cm)  petal width (cm)\n",
       "0                5.1               3.5                1.4               0.2\n",
       "1                4.9               3.0                1.4               0.2\n",
       "2                4.7               3.2                1.3               0.2\n",
       "3                4.6               3.1                1.5               0.2\n",
       "4                5.0               3.6                1.4               0.2"
      ]
     },
     "execution_count": 2,
     "metadata": {},
     "output_type": "execute_result"
    }
   ],
   "source": [
    "# Use iris data\n",
    "\n",
    "iris_data = load_iris()\n",
    "df_iris_data = pd.DataFrame(iris_data.data, columns=iris_data.feature_names)\n",
    "\n",
    "print(df_iris_data.shape)\n",
    "df_iris_data.head()"
   ]
  },
  {
   "cell_type": "code",
   "execution_count": 3,
   "metadata": {},
   "outputs": [
    {
     "data": {
      "image/png": "[encoded data removed]",
      "text/plain": [
       "<Figure size 432x288 with 1 Axes>"
      ]
     },
     "metadata": {
      "needs_background": "light"
     },
     "output_type": "display_data"
    }
   ],
   "source": [
    "# Take a look at the distrbutions\n",
    "\n",
    "plt.hist(df_iris_data['sepal length (cm)'], bins = 15, color = 'red', alpha = 0.3)\n",
    "plt.hist(df_iris_data['sepal width (cm)'],  bins = 15, color = 'blue', alpha = 0.3)\n",
    "plt.hist(df_iris_data['petal length (cm)'], bins = 15, color = 'green', alpha = 0.3)\n",
    "#plt.hist(df_iris_data['petal width (cm)'],  bins = 15, color = 'black', alpha = 0.3)\n",
    "\n",
    "plt.show()"
   ]
  },
  {
   "cell_type": "markdown",
   "metadata": {},
   "source": [
    "### Mann-Whitney U test (= Wilcoxon rank-sum test) and Student t-test"
   ]
  },
  {
   "cell_type": "code",
   "execution_count": 4,
   "metadata": {},
   "outputs": [
    {
     "name": "stdout",
     "output_type": "stream",
     "text": [
      "['sepal length (cm)' 'sepal width (cm)' 'petal length (cm)'\n",
      " 'petal width (cm)']\n"
     ]
    },
    {
     "data": {
      "text/plain": [
       "{'sepal length (cm)': 0      5.1\n",
       " 1      4.9\n",
       " 2      4.7\n",
       " 3      4.6\n",
       " 4      5.0\n",
       "       ... \n",
       " 145    6.7\n",
       " 146    6.3\n",
       " 147    6.5\n",
       " 148    6.2\n",
       " 149    5.9\n",
       " Name: sepal length (cm), Length: 150, dtype: float64,\n",
       " 'sepal width (cm)': 0      3.5\n",
       " 1      3.0\n",
       " 2      3.2\n",
       " 3      3.1\n",
       " 4      3.6\n",
       "       ... \n",
       " 145    3.0\n",
       " 146    2.5\n",
       " 147    3.0\n",
       " 148    3.4\n",
       " 149    3.0\n",
       " Name: sepal width (cm), Length: 150, dtype: float64,\n",
       " 'petal length (cm)': 0      1.4\n",
       " 1      1.4\n",
       " 2      1.3\n",
       " 3      1.5\n",
       " 4      1.4\n",
       "       ... \n",
       " 145    5.2\n",
       " 146    5.0\n",
       " 147    5.2\n",
       " 148    5.4\n",
       " 149    5.1\n",
       " Name: petal length (cm), Length: 150, dtype: float64}"
      ]
     },
     "execution_count": 4,
     "metadata": {},
     "output_type": "execute_result"
    }
   ],
   "source": [
    "# Convert Pandas Series to dictionary to perform tests\n",
    "\n",
    "col_name = df_iris_data.columns.values\n",
    "print(col_name)\n",
    "\n",
    "keys = [col_name[0], col_name[1], col_name[2]]\n",
    "values = [df_iris_data.iloc[:, 0], df_iris_data.iloc[:, 1], df_iris_data.iloc[:, 2]]\n",
    "\n",
    "data_dict = {k: v for k, v in zip(keys, values)}\n",
    "data_dict"
   ]
  },
  {
   "cell_type": "code",
   "execution_count": 5,
   "metadata": {},
   "outputs": [
    {
     "name": "stdout",
     "output_type": "stream",
     "text": [
      "[('sepal length (cm)', 'sepal width (cm)'), ('sepal length (cm)', 'petal length (cm)'), ('sepal width (cm)', 'petal length (cm)')]\n"
     ]
    }
   ],
   "source": [
    "# Make combinations for all pairs\n",
    "\n",
    "comparison_pairs = []\n",
    "for i in itertools.combinations(data_dict.keys(), 2):\n",
    "    comparison_pairs.append(i)\n",
    "\n",
    "print(comparison_pairs)"
   ]
  },
  {
   "cell_type": "code",
   "execution_count": 6,
   "metadata": {},
   "outputs": [
    {
     "name": "stdout",
     "output_type": "stream",
     "text": [
      "Mann-Whitney U test\n",
      "Null hypothesis H0 = Distributions are equal\n",
      "Significance level alpha =  0.05 \n",
      "\n",
      "Test result\n",
      "sepal length (cm) \t& sepal width (cm) \tp-value = 0.0000 \tDifferent distribution\n",
      "sepal length (cm) \t& petal length (cm) \tp-value = 0.0000 \tDifferent distribution\n",
      "sepal width (cm) \t& petal length (cm) \tp-value = 0.0000 \tDifferent distribution\n"
     ]
    }
   ],
   "source": [
    "# Test for all pairs 1 - U-test\n",
    "\n",
    "alpha = 0.05\n",
    "print('Mann-Whitney U test')\n",
    "print('Null hypothesis H0 = Distributions are equal')\n",
    "print('Significance level alpha = ', alpha, '\\n')\n",
    "\n",
    "print('Test result')\n",
    "for i in range(len(comparison_pairs)):\n",
    "    pair_1 = data_dict.get(comparison_pairs[i][0])\n",
    "    pair_2 = data_dict.get(comparison_pairs[i][1])\n",
    "    s, p = mannwhitneyu(pair_1, pair_2, use_continuity = True)\n",
    "    \n",
    "    if p > alpha:\n",
    "        print(comparison_pairs[i][0], '\\t&', comparison_pairs[i][1], '\\tp-value = %.4f' % (p), '\\t\\tSame distribution')\n",
    "    else:\n",
    "        print(comparison_pairs[i][0], '\\t&', comparison_pairs[i][1], '\\tp-value = %.4f' % (p), '\\tDifferent distribution')"
   ]
  },
  {
   "cell_type": "code",
   "execution_count": 7,
   "metadata": {},
   "outputs": [
    {
     "name": "stdout",
     "output_type": "stream",
     "text": [
      "Student t test\n",
      "Null hypothesis H0 = Distributions are equal\n",
      "Significance level alpha =  0.05 \n",
      "\n",
      "Test result\n",
      "sepal length (cm) \t& sepal width (cm) \tp-value = 0.0000 \tDifferent distribution\n",
      "sepal length (cm) \t& petal length (cm) \tp-value = 0.0000 \tDifferent distribution\n",
      "sepal width (cm) \t& petal length (cm) \tp-value = 0.0000 \tDifferent distribution\n"
     ]
    }
   ],
   "source": [
    "# Test for all pairs 2 - t-test\n",
    "\n",
    "alpha = 0.05\n",
    "print('Student t test')\n",
    "print('Null hypothesis H0 = Distributions are equal')\n",
    "print('Significance level alpha = ', alpha, '\\n')\n",
    "\n",
    "print('Test result')\n",
    "for i in range(len(comparison_pairs)):\n",
    "    pair_1 = data_dict.get(comparison_pairs[i][0])\n",
    "    pair_2 = data_dict.get(comparison_pairs[i][1])\n",
    "    s, p = ttest_ind(pair_1, pair_2, equal_var = False)\n",
    "    \n",
    "    if p > alpha:\n",
    "        print(comparison_pairs[i][0], '\\t&', comparison_pairs[i][1], '\\tp-value = %.4f' % (p), '\\t\\tSame distribution')\n",
    "    else:\n",
    "        print(comparison_pairs[i][0], '\\t&', comparison_pairs[i][1], '\\tp-value = %.4f' % (p), '\\tDifferent distribution')"
   ]
  },
  {
   "cell_type": "code",
   "execution_count": 17,
   "metadata": {},
   "outputs": [
    {
     "data": {
      "image/png": "[encoded data removed]",
      "text/plain": [
       "<Figure size 720x432 with 1 Axes>"
      ]
     },
     "metadata": {
      "needs_background": "light"
     },
     "output_type": "display_data"
    }
   ],
   "source": [
    "# Assumption check - normal probability plot\n",
    "\n",
    "sampling_difference = data_dict.get(comparison_pairs[0][0]) - data_dict.get(comparison_pairs[0][1])\n",
    "\n",
    "fig = plt.figure(figsize= (10, 6))\n",
    "\n",
    "normality_plot, stat = probplot(sampling_difference, plot = plt, rvalue= True)\n",
    "plt.title(\"Probability plot of sampling difference\", fontsize= 12)\n",
    "\n",
    "plt.show()"
   ]
  },
  {
   "cell_type": "code",
   "execution_count": null,
   "metadata": {},
   "outputs": [],
   "source": []
  }
 ],
 "metadata": {
  "kernelspec": {
   "display_name": "Python 3",
   "language": "python",
   "name": "python3"
  },
  "language_info": {
   "codemirror_mode": {
    "name": "ipython",
    "version": 3
   },
   "file_extension": ".py",
   "mimetype": "text/x-python",
   "name": "python",
   "nbconvert_exporter": "python",
   "pygments_lexer": "ipython3",
   "version": "3.7.4"
  }
 },
 "nbformat": 4,
 "nbformat_minor": 2
}
